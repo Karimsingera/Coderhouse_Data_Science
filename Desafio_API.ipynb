{
 "cells": [
  {
   "cell_type": "markdown",
   "metadata": {},
   "source": [
    "**Curso: Data Science \\\n",
    "Desafio: API \\\n",
    "Fecha 11 de abril 2024 \\\n",
    "Alumno: Karim Singer \\\n",
    "Tutora: Maria Freiberger**"
   ]
  },
  {
   "cell_type": "markdown",
   "metadata": {},
   "source": [
    "**Descripción del trabajo**\n",
    "\n",
    "En relación al Dataset que estoy trabajando, encontré que la columna de PIB, tiene muchos datos faltantes. Busqué en la documentación de mi base de datos en \"Our World in Data\" y hacen referencia al \"World Bank\". Consulto si el World Bank tiene API y sí tiene. Por eso, consultaré la API del World Bank para encontrar más datos sobre PIB per capita. "
   ]
  },
  {
   "cell_type": "code",
   "execution_count": 1,
   "metadata": {},
   "outputs": [
    {
     "name": "stdout",
     "output_type": "stream",
     "text": [
      "Requirement already satisfied: wbgapi in /home/karim/anaconda3/lib/python3.11/site-packages (1.0.12)\n",
      "Requirement already satisfied: requests in /home/karim/anaconda3/lib/python3.11/site-packages (from wbgapi) (2.31.0)\n",
      "Requirement already satisfied: PyYAML in /home/karim/anaconda3/lib/python3.11/site-packages (from wbgapi) (6.0.1)\n",
      "Requirement already satisfied: tabulate in /home/karim/anaconda3/lib/python3.11/site-packages (from wbgapi) (0.9.0)\n",
      "Requirement already satisfied: charset-normalizer<4,>=2 in /home/karim/anaconda3/lib/python3.11/site-packages (from requests->wbgapi) (2.0.4)\n",
      "Requirement already satisfied: idna<4,>=2.5 in /home/karim/anaconda3/lib/python3.11/site-packages (from requests->wbgapi) (3.4)\n",
      "Requirement already satisfied: urllib3<3,>=1.21.1 in /home/karim/anaconda3/lib/python3.11/site-packages (from requests->wbgapi) (2.0.7)\n",
      "Requirement already satisfied: certifi>=2017.4.17 in /home/karim/anaconda3/lib/python3.11/site-packages (from requests->wbgapi) (2024.2.2)\n"
     ]
    }
   ],
   "source": [
    "#Instalo la libreria necesaria del World Bank\n",
    "\n",
    "!pip install wbgapi"
   ]
  },
  {
   "cell_type": "code",
   "execution_count": 2,
   "metadata": {},
   "outputs": [],
   "source": [
    "# Importo las librerías a usar\n",
    "\n",
    "import wbgapi as wb\n",
    "import missingno as msno"
   ]
  },
  {
   "cell_type": "code",
   "execution_count": 3,
   "metadata": {},
   "outputs": [
    {
     "name": "stdout",
     "output_type": "stream",
     "text": [
      "Help on function DataFrame in module wbgapi.data:\n",
      "\n",
      "DataFrame(series, economy='all', time='all', index=None, columns=None, mrv=None, mrnev=None, skipBlanks=False, labels=False, skipAggs=False, numericTimeKeys=False, timeColumns=False, params={}, db=None, **dimensions)\n",
      "    Retrieve a 2-dimensional pandas dataframe. \n",
      "    \n",
      "    Arguments:\n",
      "        series:             a series identifier or list-like, e.g., SP.POP.TOTL\n",
      "    \n",
      "        economy:            an economy identifier or list-like, e.g., 'BRA' or ['USA', 'CAN', 'MEX']\n",
      "    \n",
      "        time:               a time identifier or list-like, e.g., 'YR2015' or range(2010,2020).\n",
      "                            Both element keys and values are acceptable\n",
      "    \n",
      "        index:              name or list of dimensions for the DataFrame's index, e.g., 'economy'. If None then the function\n",
      "                            will define the index based on your request. Note: to get a dataframe with no index\n",
      "                            (i.e., 0-based integers) call `reset_index()` with on the return value of this function.\n",
      "    \n",
      "        columns:            name of the dimension for the DataFrame's columns, e.g., 'series'. If None then the function\n",
      "                            will define columns based on your request.\n",
      "    \n",
      "        mrv:                return only the specified number of most recent values (same time period for all economies)\n",
      "    \n",
      "        mrnev:              return only the specified number of non-empty most recent values (time period varies)\n",
      "    \n",
      "        skipBlanks:         skip empty observations\n",
      "    \n",
      "        labels:             include the dimension name for rows\n",
      "    \n",
      "        skipAggs:           skip aggregates\n",
      "    \n",
      "        numericTimeKeys:    store the time object by value (e.g., 2014) instead of key ('YR2014') if value is numeric\n",
      "    \n",
      "        timeColumns:        add extra columns to show the time dimension for each series/economy\n",
      "                            If 'auto' then the function will guess based on other parameters\n",
      "    \n",
      "        params:             extra query parameters to pass to the API\n",
      "    \n",
      "        dimensions:         extra dimensions, database specific (e.g., version)\n",
      "        \n",
      "    Returns:\n",
      "        a pandas DataFrame\n",
      "    \n",
      "    Examples:\n",
      "        # 5 years of population data (with economy names)\n",
      "        wbgapi.data.DataFrame('SP.POP.TOTL', time=range(2010,2020),labels=True)\n",
      "    \n",
      "        # Most recent poverty and income data for LAC\n",
      "        wbgapi.data.DataFrame(['SI.POV.NAHC', 'NY.GDP.PCAP.CD'], economy=wb.region.members('LAC'),mrnev=1,timeColumns=True)\n",
      "    \n",
      "        # Fetch most recent CO2 emissions for each country and merge its income group\n",
      "        wbgapi.data.DataFrame('EN.ATM.CO2E.PC',mrnev=1).join(wbgapi.economy.DataFrame()['incomeLevel'])\n",
      "    \n",
      "        # Top 10 emitters per capita\n",
      "        wbgapi.data.DataFrame('EN.ATM.CO2E.PC',mrnev=1,labels=True).sort_values('EN.ATM.CO2E.PC',ascending=False).head(10)\n",
      "    \n",
      "    Notes:\n",
      "        timeColumns currently defaults to False so that the default column composition is consistent. This may change to 'auto'\n",
      "        at some point, so that mrv behavior is more intuitive for data discovery\n",
      "\n"
     ]
    }
   ],
   "source": [
    "# Consulto cómo solicitar la info de la API\n",
    "\n",
    "help(wb.data.DataFrame)"
   ]
  },
  {
   "cell_type": "code",
   "execution_count": 4,
   "metadata": {},
   "outputs": [
    {
     "data": {
      "text/html": [
       "<div class=\"wbgapi\"><h4>Series</h4><table>\n",
       "<thead>\n",
       "<tr><th>ID               </th><th>Name  </th><th>Field                           </th><th>Value                                                                                                                                                                </th></tr>\n",
       "</thead>\n",
       "<tbody>\n",
       "<tr><td>NY.GDP.PCAP.CD   </td><td>      </td><td>IndicatorName                   </td><td>GDP per capita (current US$)                                                                                                                                         </td></tr>\n",
       "<tr><td>NY.GDP.PCAP.CD   </td><td>      </td><td>Longdefinition                  </td><td>...GDP per capita is gross domestic product divided by midyear population. GDP is the sum of...                                                                      </td></tr>\n",
       "<tr><td>NY.GDP.PCAP.CN   </td><td>      </td><td>IndicatorName                   </td><td>GDP per capita (current LCU)                                                                                                                                         </td></tr>\n",
       "<tr><td>NY.GDP.PCAP.CN   </td><td>      </td><td>Longdefinition                  </td><td>...GDP per capita is gross domestic product divided by midyear population. GDP is the sum of...                                                                      </td></tr>\n",
       "<tr><td>NY.GDP.PCAP.KD   </td><td>      </td><td>IndicatorName                   </td><td>GDP per capita (constant 2015 US$)                                                                                                                                   </td></tr>\n",
       "<tr><td>NY.GDP.PCAP.KD   </td><td>      </td><td>Longdefinition                  </td><td>...GDP per capita is gross domestic product divided by midyear population. GDP is the sum of...                                                                      </td></tr>\n",
       "<tr><td>NY.GDP.PCAP.KD.ZG</td><td>      </td><td>IndicatorName                   </td><td>GDP per capita growth (annual %)                                                                                                                                     </td></tr>\n",
       "<tr><td>NY.GDP.PCAP.KD.ZG</td><td>      </td><td>Longdefinition                  </td><td>...Annual percentage growth rate of GDP per capita based on constant local currency. GDP per capita is gross domestic product...                                     </td></tr>\n",
       "<tr><td>NY.GDP.PCAP.KN   </td><td>      </td><td>IndicatorName                   </td><td>GDP per capita (constant LCU)                                                                                                                                        </td></tr>\n",
       "<tr><td>NY.GDP.PCAP.KN   </td><td>      </td><td>Longdefinition                  </td><td>...GDP per capita is gross domestic product divided by midyear population. GDP at purchaser&#x27;s...                                                                     </td></tr>\n",
       "<tr><td>NY.GDP.PCAP.PP.CD</td><td>      </td><td>IndicatorName                   </td><td>GDP per capita, PPP (current international $)                                                                                                                        </td></tr>\n",
       "<tr><td>NY.GDP.PCAP.PP.KD</td><td>      </td><td>IndicatorName                   </td><td>GDP per capita, PPP (constant 2017 international $)                                                                                                                  </td></tr>\n",
       "<tr><td>NY.GDP.PCAP.PP.KD</td><td>      </td><td>Longdefinition                  </td><td>...GDP per capita based on purchasing power parity (PPP). PPP GDP is gross domestic product...                                                                       </td></tr>\n",
       "<tr><td>PA.NUS.PPP       </td><td>      </td><td>Developmentrelevance            </td><td>...of PPPs with limitations  include: To analyze changes over time in relative GDP per capita and relative prices | To analyze price convergence | To make spatial...</td></tr>\n",
       "<tr><td>PA.NUS.PRVT.PP   </td><td>      </td><td>Developmentrelevance            </td><td>...of PPPs with limitations  include: To analyze changes over time in relative GDP per capita and relative prices | To analyze price convergence | To make spatial...</td></tr>\n",
       "<tr><td>SE.XPD.PRIM.PC.ZS</td><td>      </td><td>IndicatorName                   </td><td>Government expenditure per student, primary (% of GDP per capita)                                                                                                    </td></tr>\n",
       "<tr><td>SE.XPD.PRIM.PC.ZS</td><td>      </td><td>Longdefinition                  </td><td>... per student in the given level of education, expressed as a percentage of GDP per capita....                                                                     </td></tr>\n",
       "<tr><td>SE.XPD.PRIM.PC.ZS</td><td>      </td><td>Statisticalconceptandmethodology</td><td>...by the number of students at primary level, expressed as a percentage of GDP per capita. Aggregate data are World Bank estimates....                              </td></tr>\n",
       "<tr><td>SE.XPD.SECO.PC.ZS</td><td>      </td><td>IndicatorName                   </td><td>Government expenditure per student, secondary (% of GDP per capita)                                                                                                  </td></tr>\n",
       "<tr><td>SE.XPD.SECO.PC.ZS</td><td>      </td><td>Longdefinition                  </td><td>... per student in the given level of education, expressed as a percentage of GDP per capita....                                                                     </td></tr>\n",
       "<tr><td>SE.XPD.SECO.PC.ZS</td><td>      </td><td>Statisticalconceptandmethodology</td><td>...by the number of students at secondary level, expressed as a percentage of GDP per capita. Aggregate data are World Bank estimates....                            </td></tr>\n",
       "<tr><td>SE.XPD.TERT.PC.ZS</td><td>      </td><td>IndicatorName                   </td><td>Government expenditure per student, tertiary (% of GDP per capita)                                                                                                   </td></tr>\n",
       "<tr><td>SE.XPD.TERT.PC.ZS</td><td>      </td><td>Longdefinition                  </td><td>... per student in the given level of education, expressed as a percentage of GDP per capita....                                                                     </td></tr>\n",
       "<tr><td>SE.XPD.TERT.PC.ZS</td><td>      </td><td>Statisticalconceptandmethodology</td><td>...by the number of students at tertiary level, expressed as a percentage of GDP per capita. Aggregate data are World Bank estimates....                             </td></tr>\n",
       "</tbody>\n",
       "</table></div>"
      ],
      "text/plain": [
       "========\n",
       "Series: NY.GDP.PCAP.CD\n",
       "\n",
       "IndicatorName: GDP per capita (current US$)\n",
       "--------\n",
       "Longdefinition: ...GDP per capita is gross domestic product divided by midyear population. GDP is the sum of...\n",
       "========\n",
       "Series: NY.GDP.PCAP.CN\n",
       "\n",
       "IndicatorName: GDP per capita (current LCU)\n",
       "--------\n",
       "Longdefinition: ...GDP per capita is gross domestic product divided by midyear population. GDP is the sum of...\n",
       "========\n",
       "Series: NY.GDP.PCAP.KD\n",
       "\n",
       "IndicatorName: GDP per capita (constant 2015 US$)\n",
       "--------\n",
       "Longdefinition: ...GDP per capita is gross domestic product divided by midyear population. GDP is the sum of...\n",
       "========\n",
       "Series: NY.GDP.PCAP.KD.ZG\n",
       "\n",
       "IndicatorName: GDP per capita growth (annual %)\n",
       "--------\n",
       "Longdefinition: ...Annual percentage growth rate of GDP per capita based on constant local currency. GDP per capita is gross domestic product...\n",
       "========\n",
       "Series: NY.GDP.PCAP.KN\n",
       "\n",
       "IndicatorName: GDP per capita (constant LCU)\n",
       "--------\n",
       "Longdefinition: ...GDP per capita is gross domestic product divided by midyear population. GDP at purchaser's...\n",
       "========\n",
       "Series: NY.GDP.PCAP.PP.CD\n",
       "\n",
       "IndicatorName: GDP per capita, PPP (current international $)\n",
       "========\n",
       "Series: NY.GDP.PCAP.PP.KD\n",
       "\n",
       "IndicatorName: GDP per capita, PPP (constant 2017 international $)\n",
       "--------\n",
       "Longdefinition: ...GDP per capita based on purchasing power parity (PPP). PPP GDP is gross domestic product...\n",
       "========\n",
       "Series: PA.NUS.PPP\n",
       "\n",
       "Developmentrelevance: ...of PPPs with limitations  include: To analyze changes over time in relative GDP per capita and relative prices | To analyze price convergence | To make spatial...\n",
       "========\n",
       "Series: PA.NUS.PRVT.PP\n",
       "\n",
       "Developmentrelevance: ...of PPPs with limitations  include: To analyze changes over time in relative GDP per capita and relative prices | To analyze price convergence | To make spatial...\n",
       "========\n",
       "Series: SE.XPD.PRIM.PC.ZS\n",
       "\n",
       "IndicatorName: Government expenditure per student, primary (% of GDP per capita)\n",
       "--------\n",
       "Longdefinition: ... per student in the given level of education, expressed as a percentage of GDP per capita....\n",
       "--------\n",
       "Statisticalconceptandmethodology: ...by the number of students at primary level, expressed as a percentage of GDP per capita. Aggregate data are World Bank estimates....\n",
       "========\n",
       "Series: SE.XPD.SECO.PC.ZS\n",
       "\n",
       "IndicatorName: Government expenditure per student, secondary (% of GDP per capita)\n",
       "--------\n",
       "Longdefinition: ... per student in the given level of education, expressed as a percentage of GDP per capita....\n",
       "--------\n",
       "Statisticalconceptandmethodology: ...by the number of students at secondary level, expressed as a percentage of GDP per capita. Aggregate data are World Bank estimates....\n",
       "========\n",
       "Series: SE.XPD.TERT.PC.ZS\n",
       "\n",
       "IndicatorName: Government expenditure per student, tertiary (% of GDP per capita)\n",
       "--------\n",
       "Longdefinition: ... per student in the given level of education, expressed as a percentage of GDP per capita....\n",
       "--------\n",
       "Statisticalconceptandmethodology: ...by the number of students at tertiary level, expressed as a percentage of GDP per capita. Aggregate data are World Bank estimates...."
      ]
     },
     "execution_count": 4,
     "metadata": {},
     "output_type": "execute_result"
    }
   ],
   "source": [
    "# busco en los indicadores del World Bank data el código de GDP per capita\n",
    "\n",
    "wb.search('GDP per capita')"
   ]
  },
  {
   "cell_type": "markdown",
   "metadata": {},
   "source": [
    "voy a usar el primero pues es el PIB per Capita, normalizado al valor del USD actual."
   ]
  },
  {
   "cell_type": "code",
   "execution_count": 5,
   "metadata": {},
   "outputs": [
    {
     "data": {
      "text/html": [
       "<div class=\"wbgapi\"><h4>Series: NY.GDP.PCAP.CD</h4><table>\n",
       "<thead>\n",
       "<tr><th>Field                           </th><th>Value                                                                                                                                                                                                                                                                                                                                                                                                                   </th></tr>\n",
       "</thead>\n",
       "<tbody>\n",
       "<tr><td>Aggregationmethod               </td><td>Weighted average                                                                                                                                                                                                                                                                                                                                                                                                        </td></tr>\n",
       "<tr><td>IndicatorName                   </td><td>GDP per capita (current US$)                                                                                                                                                                                                                                                                                                                                                                                            </td></tr>\n",
       "<tr><td>License_Type                    </td><td>CC BY-4.0                                                                                                                                                                                                                                                                                                                                                                                                               </td></tr>\n",
       "<tr><td>License_URL                     </td><td>https://datacatalog.worldbank.org/public-licenses#cc-by                                                                                                                                                                                                                                                                                                                                                                 </td></tr>\n",
       "<tr><td>Longdefinition                  </td><td>GDP per capita is gross domestic product divided by midyear population. GDP is the sum of gross value added by all resident producers in the economy plus any product taxes and minus any subsidies not included in the value of the products. It is calculated without making deductions for depreciation of fabricated assets or for depletion and degradation of natural resources. Data are in current U.S. dollars.</td></tr>\n",
       "<tr><td>Periodicity                     </td><td>Annual                                                                                                                                                                                                                                                                                                                                                                                                                  </td></tr>\n",
       "<tr><td>Source                          </td><td>World Bank national accounts data, and OECD National Accounts data files.                                                                                                                                                                                                                                                                                                                                               </td></tr>\n",
       "<tr><td>Statisticalconceptandmethodology</td><td>For more information, see the metadata for current U.S. dollar GDP (NY.GDP.MKTP.CD) and total population (SP.POP.TOTL).                                                                                                                                                                                                                                                                                                 </td></tr>\n",
       "<tr><td>Topic                           </td><td>Economic Policy &amp; Debt: National accounts: US$ at current prices: Aggregate indicators                                                                                                                                                                                                                                                                                                                                  </td></tr>\n",
       "</tbody>\n",
       "</table></div>"
      ],
      "text/plain": [
       "========\n",
       "Series: NY.GDP.PCAP.CD\n",
       "\n",
       "Aggregationmethod: Weighted average\n",
       "--------\n",
       "IndicatorName: GDP per capita (current US$)\n",
       "--------\n",
       "License_Type: CC BY-4.0\n",
       "--------\n",
       "License_URL: https://datacatalog.worldbank.org/public-licenses#cc-by\n",
       "--------\n",
       "Longdefinition: GDP per capita is gross domestic product divided by midyear population. GDP is the sum of gross value added by all resident producers in the economy plus any product taxes and minus any subsidies not included in the value of the products. It is calculated without making deductions for depreciation of fabricated assets or for depletion and degradation of natural resources. Data are in current U.S. dollars.\n",
       "--------\n",
       "Periodicity: Annual\n",
       "--------\n",
       "Source: World Bank national accounts data, and OECD National Accounts data files.\n",
       "--------\n",
       "Statisticalconceptandmethodology: For more information, see the metadata for current U.S. dollar GDP (NY.GDP.MKTP.CD) and total population (SP.POP.TOTL).\n",
       "--------\n",
       "Topic: Economic Policy & Debt: National accounts: US$ at current prices: Aggregate indicators"
      ]
     },
     "execution_count": 5,
     "metadata": {},
     "output_type": "execute_result"
    }
   ],
   "source": [
    "# busco más información sobre el indicador\n",
    "\n",
    "wb.series.metadata.get('NY.GDP.PCAP.CD')\n"
   ]
  },
  {
   "cell_type": "code",
   "execution_count": 6,
   "metadata": {},
   "outputs": [
    {
     "name": "stdout",
     "output_type": "stream",
     "text": [
      "                       Country      YR1960      YR1961      YR1962  \\\n",
      "economy                                                              \n",
      "ZWE                   Zimbabwe  276.643363  279.332656  275.966139   \n",
      "ZMB                     Zambia  228.567399  216.274674  208.562685   \n",
      "YEM                Yemen, Rep.         NaN         NaN         NaN   \n",
      "PSE         West Bank and Gaza         NaN         NaN         NaN   \n",
      "VIR      Virgin Islands (U.S.)         NaN         NaN         NaN   \n",
      "\n",
      "             YR1963      YR1964      YR1965      YR1966      YR1967  \\\n",
      "economy                                                               \n",
      "ZWE      277.532515  282.376856  294.893605  279.337779  295.056449   \n",
      "ZMB      209.453362  236.941713  296.022427  334.672528  350.653425   \n",
      "YEM             NaN         NaN         NaN         NaN         NaN   \n",
      "PSE             NaN         NaN         NaN         NaN         NaN   \n",
      "VIR             NaN         NaN         NaN         NaN         NaN   \n",
      "\n",
      "             YR1968  ...        YR2012        YR2013        YR2014  \\\n",
      "economy              ...                                             \n",
      "ZWE      302.802871  ...   1290.193957   1408.367810   1407.034291   \n",
      "ZMB      398.557506  ...   1729.647471   1840.320553   1724.576220   \n",
      "YEM             NaN  ...   1349.990610   1497.747941   1557.601406   \n",
      "PSE             NaN  ...   3067.438727   3315.297539   3352.112595   \n",
      "VIR             NaN  ...  37795.319259  34597.976694  33045.364380   \n",
      "\n",
      "               YR2015        YR2016        YR2017        YR2018        YR2019  \\\n",
      "economy                                                                         \n",
      "ZWE       1410.329173   1421.787791   1192.107012   2269.177012   1421.868596   \n",
      "ZMB       1307.909649   1249.923143   1495.752138   1475.199883   1268.120941   \n",
      "YEM       1488.416269   1069.816998    893.716494    701.714869    693.816504   \n",
      "PSE       3272.154324   3527.613824   3620.360487   3562.330943   3656.858271   \n",
      "VIR      34007.352941  35324.974887  35365.069304  36663.208755  38633.529892   \n",
      "\n",
      "               YR2020        YR2021  \n",
      "economy                              \n",
      "ZWE       1372.696674   1773.920411  \n",
      "ZMB        956.831729   1134.713454  \n",
      "YEM        578.512010    543.637538  \n",
      "PSE       3233.568638   3678.635657  \n",
      "VIR      39411.045254  41976.008312  \n",
      "\n",
      "[5 rows x 63 columns]\n"
     ]
    }
   ],
   "source": [
    "# Hago la consulta del PIB per capita, entre los años 1960 a 2022\n",
    "\n",
    "PIB = wb.data.DataFrame('NY.GDP.PCAP.CD', economy= 'all', time=range(1960,2022), labels=True)\n",
    "print(PIB.head())"
   ]
  },
  {
   "cell_type": "code",
   "execution_count": 7,
   "metadata": {},
   "outputs": [
    {
     "data": {
      "text/plain": [
       "array(['Zimbabwe', 'Zambia', 'Yemen, Rep.', 'West Bank and Gaza',\n",
       "       'Virgin Islands (U.S.)', 'Viet Nam', 'Venezuela, RB', 'Vanuatu',\n",
       "       'Uzbekistan', 'Uruguay', 'United States', 'United Kingdom',\n",
       "       'United Arab Emirates', 'Ukraine', 'Uganda', 'Tuvalu',\n",
       "       'Turks and Caicos Islands', 'Turkmenistan', 'Turkiye', 'Tunisia',\n",
       "       'Trinidad and Tobago', 'Tonga', 'Togo', 'Timor-Leste', 'Thailand',\n",
       "       'Tanzania', 'Tajikistan', 'Syrian Arab Republic', 'Switzerland',\n",
       "       'Sweden', 'Suriname', 'Sudan', 'St. Vincent and the Grenadines',\n",
       "       'St. Martin (French part)', 'St. Lucia', 'St. Kitts and Nevis',\n",
       "       'Sri Lanka', 'Spain', 'South Sudan', 'South Africa', 'Somalia',\n",
       "       'Solomon Islands', 'Slovenia', 'Slovak Republic',\n",
       "       'Sint Maarten (Dutch part)', 'Singapore', 'Sierra Leone',\n",
       "       'Seychelles', 'Serbia', 'Senegal', 'Saudi Arabia',\n",
       "       'Sao Tome and Principe', 'San Marino', 'Samoa', 'Rwanda',\n",
       "       'Russian Federation', 'Romania', 'Qatar', 'Puerto Rico',\n",
       "       'Portugal', 'Poland', 'Philippines', 'Peru', 'Paraguay',\n",
       "       'Papua New Guinea', 'Panama', 'Palau', 'Pakistan', 'Oman',\n",
       "       'Norway', 'Northern Mariana Islands', 'North Macedonia', 'Nigeria',\n",
       "       'Niger', 'Nicaragua', 'New Zealand', 'New Caledonia',\n",
       "       'Netherlands', 'Nepal', 'Nauru', 'Namibia', 'Myanmar',\n",
       "       'Mozambique', 'Morocco', 'Montenegro', 'Mongolia', 'Monaco',\n",
       "       'Moldova', 'Micronesia, Fed. Sts.', 'Mexico', 'Mauritius',\n",
       "       'Mauritania', 'Marshall Islands', 'Malta', 'Mali', 'Maldives',\n",
       "       'Malaysia', 'Malawi', 'Madagascar', 'Macao SAR, China',\n",
       "       'Luxembourg', 'Lithuania', 'Liechtenstein', 'Libya', 'Liberia',\n",
       "       'Lesotho', 'Lebanon', 'Latvia', 'Lao PDR', 'Kyrgyz Republic',\n",
       "       'Kuwait', 'Kosovo', 'Korea, Rep.', \"Korea, Dem. People's Rep.\",\n",
       "       'Kiribati', 'Kenya', 'Kazakhstan', 'Jordan', 'Japan', 'Jamaica',\n",
       "       'Italy', 'Israel', 'Isle of Man', 'Ireland', 'Iraq',\n",
       "       'Iran, Islamic Rep.', 'Indonesia', 'India', 'Iceland', 'Hungary',\n",
       "       'Hong Kong SAR, China', 'Honduras', 'Haiti', 'Guyana',\n",
       "       'Guinea-Bissau', 'Guinea', 'Guatemala', 'Guam', 'Grenada',\n",
       "       'Greenland', 'Greece', 'Gibraltar', 'Ghana', 'Germany', 'Georgia',\n",
       "       'Gambia, The', 'Gabon', 'French Polynesia', 'France', 'Finland',\n",
       "       'Fiji', 'Faroe Islands', 'Ethiopia', 'Eswatini', 'Estonia',\n",
       "       'Eritrea', 'Equatorial Guinea', 'El Salvador', 'Egypt, Arab Rep.',\n",
       "       'Ecuador', 'Dominican Republic', 'Dominica', 'Djibouti', 'Denmark',\n",
       "       'Czechia', 'Cyprus', 'Curacao', 'Cuba', 'Croatia', \"Cote d'Ivoire\",\n",
       "       'Costa Rica', 'Congo, Rep.', 'Congo, Dem. Rep.', 'Comoros',\n",
       "       'Colombia', 'China', 'Chile', 'Channel Islands', 'Chad',\n",
       "       'Central African Republic', 'Cayman Islands', 'Canada', 'Cameroon',\n",
       "       'Cambodia', 'Cabo Verde', 'Burundi', 'Burkina Faso', 'Bulgaria',\n",
       "       'Brunei Darussalam', 'British Virgin Islands', 'Brazil',\n",
       "       'Botswana', 'Bosnia and Herzegovina', 'Bolivia', 'Bhutan',\n",
       "       'Bermuda', 'Benin', 'Belize', 'Belgium', 'Belarus', 'Barbados',\n",
       "       'Bangladesh', 'Bahrain', 'Bahamas, The', 'Azerbaijan', 'Austria',\n",
       "       'Australia', 'Aruba', 'Armenia', 'Argentina',\n",
       "       'Antigua and Barbuda', 'Angola', 'Andorra', 'American Samoa',\n",
       "       'Algeria', 'Albania', 'Afghanistan', 'World',\n",
       "       'Upper middle income', 'Sub-Saharan Africa (IDA & IBRD countries)',\n",
       "       'Sub-Saharan Africa (excluding high income)', 'Sub-Saharan Africa',\n",
       "       'South Asia (IDA & IBRD)', 'South Asia', 'Small states',\n",
       "       'Pre-demographic dividend', 'Post-demographic dividend',\n",
       "       'Pacific island small states', 'Other small states',\n",
       "       'OECD members', 'Not classified', 'North America', 'Middle income',\n",
       "       'Middle East & North Africa (IDA & IBRD countries)',\n",
       "       'Middle East & North Africa (excluding high income)',\n",
       "       'Middle East & North Africa', 'Lower middle income', 'Low income',\n",
       "       'Low & middle income',\n",
       "       'Least developed countries: UN classification',\n",
       "       'Latin America & the Caribbean (IDA & IBRD countries)',\n",
       "       'Latin America & Caribbean (excluding high income)',\n",
       "       'Latin America & Caribbean', 'Late-demographic dividend',\n",
       "       'IDA total', 'IDA only', 'IDA blend', 'IDA & IBRD total',\n",
       "       'IBRD only', 'High income',\n",
       "       'Heavily indebted poor countries (HIPC)',\n",
       "       'Fragile and conflict affected situations', 'European Union',\n",
       "       'Europe & Central Asia (IDA & IBRD countries)',\n",
       "       'Europe & Central Asia (excluding high income)',\n",
       "       'Europe & Central Asia', 'Euro area',\n",
       "       'East Asia & Pacific (IDA & IBRD countries)',\n",
       "       'East Asia & Pacific (excluding high income)',\n",
       "       'East Asia & Pacific', 'Early-demographic dividend',\n",
       "       'Central Europe and the Baltics', 'Caribbean small states',\n",
       "       'Arab World', 'Africa Western and Central',\n",
       "       'Africa Eastern and Southern'], dtype=object)"
      ]
     },
     "execution_count": 7,
     "metadata": {},
     "output_type": "execute_result"
    }
   ],
   "source": [
    "# consulto los países y regiones descargados\n",
    "\n",
    "PIB['Country'].unique()"
   ]
  },
  {
   "cell_type": "code",
   "execution_count": 8,
   "metadata": {},
   "outputs": [
    {
     "data": {
      "text/plain": [
       "<Axes: >"
      ]
     },
     "execution_count": 8,
     "metadata": {},
     "output_type": "execute_result"
    },
    {
     "data": {
      "image/png": "[encoded data removed]",
      "text/plain": [
       "<Figure size 2500x1000 with 2 Axes>"
      ]
     },
     "metadata": {},
     "output_type": "display_data"
    }
   ],
   "source": [
    "# Reviso visualmente los datos faltantes.\n",
    "\n",
    "msno.matrix(PIB)"
   ]
  },
  {
   "cell_type": "code",
   "execution_count": 9,
   "metadata": {},
   "outputs": [],
   "source": [
    "#Guardo la información en un archivo .csv\n",
    "\n",
    "PIB.to_csv('PIB.csv')"
   ]
  },
  {
   "cell_type": "markdown",
   "metadata": {},
   "source": [
    "**Conclusiones**\n",
    "\n",
    "La base de datos del World Bank parece tener bastante más información que la base de datos que dispongo. Por lo que es probable que siga consultándola regularmente para el proyecto final."
   ]
  },
  {
   "cell_type": "markdown",
   "metadata": {},
   "source": [
    "Ahora voy a intentar un merge con el archivo original\n"
   ]
  }
 ],
 "metadata": {
  "kernelspec": {
   "display_name": "base",
   "language": "python",
   "name": "python3"
  },
  "language_info": {
   "codemirror_mode": {
    "name": "ipython",
    "version": 3
   },
   "file_extension": ".py",
   "mimetype": "text/x-python",
   "name": "python",
   "nbconvert_exporter": "python",
   "pygments_lexer": "ipython3",
   "version": "3.11.7"
  }
 },
 "nbformat": 4,
 "nbformat_minor": 2
}
